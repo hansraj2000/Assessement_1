{
 "cells": [
  {
   "cell_type": "markdown",
   "id": "89f8e7e1",
   "metadata": {},
   "source": [
    "### Answer 1 Python: Writing a algorithm for searching a target value in a 2D matrix."
   ]
  },
  {
   "cell_type": "markdown",
   "id": "27355fd5",
   "metadata": {},
   "source": [
    "Algorithm: search_matrix(matrix, target)\n",
    "\n",
    "Input: matrix - 2D integer matrix with specified properties\n",
    "       target - integer value to search for in the matrix\n",
    "       \n",
    "Output: True if target is found, False otherwise\n",
    "\n",
    "Steps:\n",
    "1. Set rows to the number of rows in matrix.\n",
    "1. Set cols to the number of columns in matrix.\n",
    "1. Set low to 0.\n",
    "1. Set high to rows * cols - 1.\n",
    "1. While low <= high, repeat stepa A-D.\n",
    "   1. Set mid to (low + high) // 2.\n",
    "   1. Set mid_row to mid // cols.\n",
    "   1. Set mid_col to mid % cols.\n",
    "   1. If matrix[mid_row][mid_col] == target, return True.\n",
    "      - If matrix[mid_row][mid_col] < target, set low = mid + 1.\n",
    "      - If matrix[mid_row][mid_col] > target, set high = mid - 1.\n",
    "1. If the loop completes without finding the target, return False.\n"
   ]
  },
  {
   "cell_type": "code",
   "execution_count": 4,
   "id": "7389996f",
   "metadata": {},
   "outputs": [],
   "source": [
    "# Python Implementation\n",
    "\n",
    "def search_matrix(matrix, target):\n",
    "    if not matrix or not matrix[0]:\n",
    "        return False\n",
    "\n",
    "    rows, cols = len(matrix), len(matrix[0])\n",
    "    low, high = 0, rows * cols - 1\n",
    "\n",
    "    while low <= high:\n",
    "        mid = (low + high) // 2\n",
    "        mid_value = matrix[mid // cols][mid % cols]\n",
    "\n",
    "        if mid_value == target:\n",
    "            return True\n",
    "        elif mid_value < target:\n",
    "            low = mid + 1\n",
    "        else:\n",
    "            high = mid - 1\n",
    "\n",
    "    return False"
   ]
  },
  {
   "cell_type": "code",
   "execution_count": 5,
   "id": "bf734d4f",
   "metadata": {},
   "outputs": [],
   "source": [
    "# Example\n",
    "matrix = [\n",
    "    [1, 3, 5, 7],\n",
    "    [10, 11, 16, 20],\n",
    "    [23, 30, 34, 60]\n",
    "]\n",
    "target = 3\n"
   ]
  },
  {
   "cell_type": "code",
   "execution_count": 6,
   "id": "40dc5e98",
   "metadata": {},
   "outputs": [
    {
     "name": "stdout",
     "output_type": "stream",
     "text": [
      "True\n"
     ]
    }
   ],
   "source": [
    "result = search_matrix(matrix, target)\n",
    "print(result)  # Output: True"
   ]
  },
  {
   "cell_type": "markdown",
   "id": "3300f966",
   "metadata": {},
   "source": [
    "###  Answer 2 Python: \n",
    "**Write a program that takes a string as input, and counts the frequency of each word in the string, there might  be repeated characters in the string. Your task is to find the highest frequency and returns the length of the  highest-frequency word.**"
   ]
  },
  {
   "cell_type": "code",
   "execution_count": 13,
   "id": "1e07d37c",
   "metadata": {},
   "outputs": [],
   "source": [
    "## Program that takes a string as input, counts the frequency of each word in the string, and \n",
    "## returns the length of the highest-frequency word:\n",
    "\n",
    "def highest_frequency_word_length(string):\n",
    "    words = string.split()\n",
    "    frequency = {}\n",
    "    for word in words:\n",
    "        if word in frequency:\n",
    "            frequency[word] += 1\n",
    "        else:\n",
    "            frequency[word] = 1\n",
    "    max_frequency = max(frequency.values())\n",
    "    highest_frequency_words = [word for word, freq in frequency.items() if freq == max_frequency]\n",
    "    return len(max(highest_frequency_words, key=len))\n"
   ]
  },
  {
   "cell_type": "code",
   "execution_count": 14,
   "id": "0b2a9047",
   "metadata": {},
   "outputs": [],
   "source": [
    "# Test case 1\n",
    "string1 = \"write write write all the number from from from 1 to 100\"\n",
    "assert highest_frequency_word_length(string1) == 5\n",
    "\n",
    "## In this test case, the most frequent word is “write”, which occurs 3 times, and its length is 5."
   ]
  },
  {
   "cell_type": "code",
   "execution_count": 15,
   "id": "2d1e8426",
   "metadata": {},
   "outputs": [],
   "source": [
    "# Test case 2\n",
    "string2 = \"the quick brown fox jumps over the lazy dog dog dog\"\n",
    "assert highest_frequency_word_length(string2) == 3\n",
    "\n",
    "## In this test case, the most frequent word is “dog”, which occurs 3 times, and its length is 3."
   ]
  },
  {
   "cell_type": "code",
   "execution_count": 16,
   "id": "16da71fc",
   "metadata": {},
   "outputs": [],
   "source": [
    "# Test case 3\n",
    "string3 = \"the cat in the hat hat hat hat hat\"\n",
    "assert highest_frequency_word_length(string3) == 3\n",
    "\n",
    "## In this test case, the most frequent word is “hat”, which occurs 5 times, and its length is 3."
   ]
  },
  {
   "cell_type": "code",
   "execution_count": null,
   "id": "9bf14247",
   "metadata": {},
   "outputs": [],
   "source": []
  }
 ],
 "metadata": {
  "kernelspec": {
   "display_name": "Python 3 (ipykernel)",
   "language": "python",
   "name": "python3"
  },
  "language_info": {
   "codemirror_mode": {
    "name": "ipython",
    "version": 3
   },
   "file_extension": ".py",
   "mimetype": "text/x-python",
   "name": "python",
   "nbconvert_exporter": "python",
   "pygments_lexer": "ipython3",
   "version": "3.9.12"
  }
 },
 "nbformat": 4,
 "nbformat_minor": 5
}
